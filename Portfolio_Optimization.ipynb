{
  "cells": [
    {
      "cell_type": "markdown",
      "metadata": {
        "id": "view-in-github",
        "colab_type": "text"
      },
      "source": [
        "<a href=\"https://colab.research.google.com/github/cianryan09/Portfolio-Optimization-and-Performance/blob/main/Portfolio_Optimization.ipynb\" target=\"_parent\"><img src=\"https://colab.research.google.com/assets/colab-badge.svg\" alt=\"Open In Colab\"/></a>"
      ]
    },
    {
      "cell_type": "code",
      "execution_count": null,
      "metadata": {
        "id": "MIPpWvBnt2S5",
        "colab": {
          "base_uri": "https://localhost:8080/"
        },
        "outputId": "628e0349-688b-4e11-e0ed-bbfb3bb0cb0f"
      },
      "outputs": [
        {
          "output_type": "stream",
          "name": "stdout",
          "text": [
            "Requirement already satisfied: financetoolkit in /usr/local/lib/python3.10/dist-packages (1.9.0)\n",
            "Requirement already satisfied: pandas[computation,performance,plot]<3.0,>=2.2 in /usr/local/lib/python3.10/dist-packages (from financetoolkit) (2.2.2)\n",
            "Requirement already satisfied: requests<3.0,>=2.31 in /usr/local/lib/python3.10/dist-packages (from financetoolkit) (2.31.0)\n",
            "Requirement already satisfied: scikit-learn<2.0,>=1.3 in /usr/local/lib/python3.10/dist-packages (from financetoolkit) (1.4.2)\n",
            "Requirement already satisfied: numpy>=1.22.4 in /usr/local/lib/python3.10/dist-packages (from pandas[computation,performance,plot]<3.0,>=2.2->financetoolkit) (1.25.2)\n",
            "Requirement already satisfied: python-dateutil>=2.8.2 in /usr/local/lib/python3.10/dist-packages (from pandas[computation,performance,plot]<3.0,>=2.2->financetoolkit) (2.8.2)\n",
            "Requirement already satisfied: pytz>=2020.1 in /usr/local/lib/python3.10/dist-packages (from pandas[computation,performance,plot]<3.0,>=2.2->financetoolkit) (2023.4)\n",
            "Requirement already satisfied: tzdata>=2022.7 in /usr/local/lib/python3.10/dist-packages (from pandas[computation,performance,plot]<3.0,>=2.2->financetoolkit) (2024.1)\n",
            "Requirement already satisfied: scipy>=1.10.0 in /usr/local/lib/python3.10/dist-packages (from pandas[computation,performance,plot]<3.0,>=2.2->financetoolkit) (1.11.4)\n",
            "Requirement already satisfied: xarray>=2022.12.0 in /usr/local/lib/python3.10/dist-packages (from pandas[computation,performance,plot]<3.0,>=2.2->financetoolkit) (2023.7.0)\n",
            "Requirement already satisfied: matplotlib>=3.6.3 in /usr/local/lib/python3.10/dist-packages (from pandas[computation,performance,plot]<3.0,>=2.2->financetoolkit) (3.7.1)\n",
            "Requirement already satisfied: bottleneck>=1.3.6 in /usr/local/lib/python3.10/dist-packages (from pandas[computation,performance,plot]<3.0,>=2.2->financetoolkit) (1.3.8)\n",
            "Requirement already satisfied: numba>=0.56.4 in /usr/local/lib/python3.10/dist-packages (from pandas[computation,performance,plot]<3.0,>=2.2->financetoolkit) (0.58.1)\n",
            "Requirement already satisfied: numexpr>=2.8.4 in /usr/local/lib/python3.10/dist-packages (from pandas[computation,performance,plot]<3.0,>=2.2->financetoolkit) (2.10.0)\n",
            "Requirement already satisfied: charset-normalizer<4,>=2 in /usr/local/lib/python3.10/dist-packages (from requests<3.0,>=2.31->financetoolkit) (3.3.2)\n",
            "Requirement already satisfied: idna<4,>=2.5 in /usr/local/lib/python3.10/dist-packages (from requests<3.0,>=2.31->financetoolkit) (3.7)\n",
            "Requirement already satisfied: urllib3<3,>=1.21.1 in /usr/local/lib/python3.10/dist-packages (from requests<3.0,>=2.31->financetoolkit) (2.0.7)\n",
            "Requirement already satisfied: certifi>=2017.4.17 in /usr/local/lib/python3.10/dist-packages (from requests<3.0,>=2.31->financetoolkit) (2024.2.2)\n",
            "Requirement already satisfied: joblib>=1.2.0 in /usr/local/lib/python3.10/dist-packages (from scikit-learn<2.0,>=1.3->financetoolkit) (1.4.2)\n",
            "Requirement already satisfied: threadpoolctl>=2.0.0 in /usr/local/lib/python3.10/dist-packages (from scikit-learn<2.0,>=1.3->financetoolkit) (3.5.0)\n",
            "Requirement already satisfied: contourpy>=1.0.1 in /usr/local/lib/python3.10/dist-packages (from matplotlib>=3.6.3->pandas[computation,performance,plot]<3.0,>=2.2->financetoolkit) (1.2.1)\n",
            "Requirement already satisfied: cycler>=0.10 in /usr/local/lib/python3.10/dist-packages (from matplotlib>=3.6.3->pandas[computation,performance,plot]<3.0,>=2.2->financetoolkit) (0.12.1)\n",
            "Requirement already satisfied: fonttools>=4.22.0 in /usr/local/lib/python3.10/dist-packages (from matplotlib>=3.6.3->pandas[computation,performance,plot]<3.0,>=2.2->financetoolkit) (4.51.0)\n",
            "Requirement already satisfied: kiwisolver>=1.0.1 in /usr/local/lib/python3.10/dist-packages (from matplotlib>=3.6.3->pandas[computation,performance,plot]<3.0,>=2.2->financetoolkit) (1.4.5)\n",
            "Requirement already satisfied: packaging>=20.0 in /usr/local/lib/python3.10/dist-packages (from matplotlib>=3.6.3->pandas[computation,performance,plot]<3.0,>=2.2->financetoolkit) (24.0)\n",
            "Requirement already satisfied: pillow>=6.2.0 in /usr/local/lib/python3.10/dist-packages (from matplotlib>=3.6.3->pandas[computation,performance,plot]<3.0,>=2.2->financetoolkit) (9.4.0)\n",
            "Requirement already satisfied: pyparsing>=2.3.1 in /usr/local/lib/python3.10/dist-packages (from matplotlib>=3.6.3->pandas[computation,performance,plot]<3.0,>=2.2->financetoolkit) (3.1.2)\n",
            "Requirement already satisfied: llvmlite<0.42,>=0.41.0dev0 in /usr/local/lib/python3.10/dist-packages (from numba>=0.56.4->pandas[computation,performance,plot]<3.0,>=2.2->financetoolkit) (0.41.1)\n",
            "Requirement already satisfied: six>=1.5 in /usr/local/lib/python3.10/dist-packages (from python-dateutil>=2.8.2->pandas[computation,performance,plot]<3.0,>=2.2->financetoolkit) (1.16.0)\n",
            "Requirement already satisfied: PyPortfolioOpt in /usr/local/lib/python3.10/dist-packages (1.5.5)\n",
            "Requirement already satisfied: cvxpy<2.0.0,>=1.1.19 in /usr/local/lib/python3.10/dist-packages (from PyPortfolioOpt) (1.3.4)\n",
            "Requirement already satisfied: numpy<2.0.0,>=1.22.4 in /usr/local/lib/python3.10/dist-packages (from PyPortfolioOpt) (1.25.2)\n",
            "Requirement already satisfied: pandas>=0.19 in /usr/local/lib/python3.10/dist-packages (from PyPortfolioOpt) (2.2.2)\n",
            "Requirement already satisfied: scipy<2.0,>=1.3 in /usr/local/lib/python3.10/dist-packages (from PyPortfolioOpt) (1.11.4)\n",
            "Requirement already satisfied: osqp>=0.4.1 in /usr/local/lib/python3.10/dist-packages (from cvxpy<2.0.0,>=1.1.19->PyPortfolioOpt) (0.6.2.post8)\n",
            "Requirement already satisfied: ecos>=2 in /usr/local/lib/python3.10/dist-packages (from cvxpy<2.0.0,>=1.1.19->PyPortfolioOpt) (2.0.13)\n",
            "Requirement already satisfied: scs>=1.1.6 in /usr/local/lib/python3.10/dist-packages (from cvxpy<2.0.0,>=1.1.19->PyPortfolioOpt) (3.2.4.post1)\n",
            "Requirement already satisfied: setuptools>65.5.1 in /usr/local/lib/python3.10/dist-packages (from cvxpy<2.0.0,>=1.1.19->PyPortfolioOpt) (67.7.2)\n",
            "Requirement already satisfied: python-dateutil>=2.8.2 in /usr/local/lib/python3.10/dist-packages (from pandas>=0.19->PyPortfolioOpt) (2.8.2)\n",
            "Requirement already satisfied: pytz>=2020.1 in /usr/local/lib/python3.10/dist-packages (from pandas>=0.19->PyPortfolioOpt) (2023.4)\n",
            "Requirement already satisfied: tzdata>=2022.7 in /usr/local/lib/python3.10/dist-packages (from pandas>=0.19->PyPortfolioOpt) (2024.1)\n",
            "Requirement already satisfied: qdldl in /usr/local/lib/python3.10/dist-packages (from osqp>=0.4.1->cvxpy<2.0.0,>=1.1.19->PyPortfolioOpt) (0.1.7.post2)\n",
            "Requirement already satisfied: six>=1.5 in /usr/local/lib/python3.10/dist-packages (from python-dateutil>=2.8.2->pandas>=0.19->PyPortfolioOpt) (1.16.0)\n"
          ]
        }
      ],
      "source": [
        "\"\"\"\n",
        "Install relevant python libraries.\n",
        "financetoolkit downloads and updates the security prices for the revelant dates\n",
        "PyPortfolioOpt\n",
        "\"\"\"\n",
        "\n",
        "!pip install financetoolkit\n",
        "\n",
        "!pip install PyPortfolioOpt\n",
        "\n",
        "# !pip install financedatabase"
      ]
    },
    {
      "cell_type": "code",
      "source": [
        "\"\"\"\n",
        "mounting google drive to save output\n",
        "\"\"\"\n",
        "\n",
        "from google.colab import drive\n",
        "drive.mount('/content/drive')"
      ],
      "metadata": {
        "id": "SU4z1Fnu6c9H",
        "colab": {
          "base_uri": "https://localhost:8080/"
        },
        "outputId": "5a705924-baa9-4f65-d162-8c2b8355e771"
      },
      "execution_count": null,
      "outputs": [
        {
          "output_type": "stream",
          "name": "stdout",
          "text": [
            "Drive already mounted at /content/drive; to attempt to forcibly remount, call drive.mount(\"/content/drive\", force_remount=True).\n"
          ]
        }
      ]
    },
    {
      "cell_type": "code",
      "source": [
        "\"\"\"\n",
        "import standard python libraries\n",
        "\"\"\"\n",
        "\n",
        "import pandas as pd\n",
        "import numpy as np"
      ],
      "metadata": {
        "id": "9iVebPq9Bav0"
      },
      "execution_count": null,
      "outputs": []
    },
    {
      "cell_type": "code",
      "execution_count": null,
      "metadata": {
        "colab": {
          "base_uri": "https://localhost:8080/"
        },
        "id": "BwywMX43xBTR",
        "outputId": "9f944753-291e-43a3-f5fd-29c427076d6d"
      },
      "outputs": [
        {
          "output_type": "stream",
          "name": "stdout",
          "text": [
            "['MSFT', 'AAPL', 'NVDA', 'AMZN', 'META', 'GOOGL', 'GOOG', 'BRK-B', 'AVGO', 'LLY', 'JPM', 'XOM', 'TSLA', 'UNH', 'V', 'PG', 'MA', 'JNJ', 'COST', 'HD', 'MRK', 'ABBV', 'CVX', 'CRM', 'WMT', 'BAC', 'NFLX', 'AMD', 'PEP', 'KO', 'TMO', 'WFC', 'ADBE', 'QCOM', 'LIN', 'MCD', 'CSCO', 'ORCL', 'ACN', 'DIS', 'INTU', 'ABT', 'CAT', 'AMAT', 'TXN', 'GE', 'DHR', 'VZ', 'AMGN', 'PFE', 'NEE', 'PM', 'CMCSA', 'NOW', 'IBM', 'GS', 'UNP', 'MU', 'COP', 'SPGI', 'ISRG', 'RTX', 'AXP', 'HON', 'UBER', 'INTC', 'LOW', 'ETN', 'BKNG', 'ELV', 'MS', 'LRCX', 'T', 'C', 'PGR', 'SCHW', 'MDT', 'VRTX', 'BLK', 'SYK', 'TJX', 'NKE', 'BSX', 'UPS', 'CB', 'ADI', 'BA', 'MMC', 'ADP', 'DE', 'PLD', 'REGN', 'KLAC', 'LMT', 'PANW', 'CI', 'MDLZ', 'BX', 'FI', 'AMT', 'BMY', 'SNPS', 'CMG', 'SO', 'TMUS', 'SBUX', 'GILD', 'MO', 'ANET', 'ZTS', 'DUK', 'APH', 'CDNS', 'ICE', 'CL', 'WM', 'CME', 'EQIX', 'FCX', 'EOG', 'TT', 'TGT', 'SHW', 'MCK', 'CVS', 'TDG', 'NXPI', 'PH', 'CEG', 'SLB', 'PYPL', 'BDX', 'ITW', 'CSX', 'GD', 'NOC', 'USB', 'MCO', 'MPC', 'EMR', 'PNC', 'ABNB', 'HCA', 'PSX', 'MSI', 'FDX', 'CTAS', 'ORLY', 'ECL', 'MAR', 'AON', 'MMM', 'ROP', 'APD', 'WELL', 'PCAR', 'AIG', 'AJG', 'EW', 'CARR', 'VLO', 'COF', 'TFC', 'GM', 'NSC', 'HLT', 'MCHP', 'DXCM', 'AZO', 'TRV', 'WMB', 'NEM', 'SRE', 'AEP', 'SPG', 'F', 'OKE', 'CPRT', 'ADSK', 'TEL', 'DLR', 'JCI', 'FIS', 'AFL', 'O', 'URI', 'SMCI', 'KMB', 'ROST', 'PSA', 'GEV', 'CCI', 'A', 'MET', 'DHI', 'IDXX', 'BK', 'D', 'ALL', 'MRNA', 'HUM', 'AMP', 'PRU', 'HES', 'IQV', 'NUE', 'LHX', 'GWW', 'OXY', 'STZ', 'CNC', 'DOW', 'LEN', 'GIS', 'PAYX', 'MNST', 'YUM', 'OTIS', 'CTVA', 'KVUE', 'PCG', 'MSCI', 'CMI', 'FTNT', 'LULU', 'AME', 'EXC', 'RSG', 'PWR', 'FAST', 'SYY', 'KMI', 'IR', 'COR', 'PEG', 'ACGL', 'VRSK', 'MLM', 'CSGP', 'KR', 'KDP', 'CTSH', 'IT', 'FANG', 'MPWR', 'FICO', 'VMC', 'GEHC', 'XYL', 'DAL', 'RCL', 'HAL', 'ED', 'DD', 'BIIB', 'MTD', 'BKR', 'ADM', 'ODFL', 'HWM', 'RMD', 'DG', 'EL', 'EXR', 'PPG', 'EA', 'DVN', 'ON', 'VICI', 'VST', 'HSY', 'DFS', 'ROK', 'HIG', 'EFX', 'XEL', 'CDW', 'WAB', 'TSCO', 'EIX', 'KHC', 'GPN', 'ANSS', 'AVB', 'CHTR', 'CBRE', 'KEYS', 'EBAY', 'FTV', 'WEC', 'HPQ', 'GLW', 'WTW', 'FITB', 'WST', 'CHD', 'GRMN', 'AWK', 'TROW', 'TRGP', 'DOV', 'MTB', 'LYB', 'ZBH', 'DLTR', 'PHM', 'IFF', 'NVR', 'CAH', 'DTE', 'BR', 'ETR', 'IRM', 'WDC', 'RJF', 'NDAQ', 'STT', 'TTWO', 'APTV', 'EQR', 'HPE', 'NTAP', 'STE', 'DECK', 'WY', 'BALL', 'PTC', 'SBAC', 'PPL', 'GPC', 'VLTO', 'ES', 'WAT', 'BRO', 'CTRA', 'HUBB', 'FSLR', 'FE', 'STLD', 'AXON', 'CPAY', 'BLDR', 'TYL', 'HBAN', 'INVH', 'LDOS', 'TER', 'MOH', 'ULTA', 'VTR', 'ALGN', 'AEE', 'COO', 'ARE', 'CBOE', 'OMC', 'STX', 'TDY', 'CNP', 'NRG', 'MKC', 'RF', 'CINF', 'PFG', 'CMS', 'WBD', 'DRI', 'AVY', 'LH', 'ILMN', 'SYF', 'UAL', 'DPZ', 'BAX', 'NTRS', 'ATO', 'HOLX', 'TSN', 'J', 'LVS', 'TXT', 'EXPD', 'CFG', 'ESS', 'CLX', 'FDS', 'EG', 'IEX', 'EQT', 'LUV', 'ZBRA', 'K', 'PKG', 'WRB', 'ENPH', 'DGX', 'MAA', 'CE', 'MAS', 'MRO', 'VRSN', 'ALB', 'EXPE', 'BG', 'SWKS', 'CCL', 'AMCR', 'CF', 'JBL', 'CAG', 'AKAM', 'NDSN', 'SNA', 'KEY', 'BBY', 'POOL', 'GEN', 'TRMB', 'AES', 'L', 'DOC', 'IP', 'JBHT', 'SWK', 'PNR', 'LYV', 'RVTY', 'WRK', 'VTRS', 'HST', 'ROL', 'WBA', 'LNT', 'TECH', 'PODD', 'KIM', 'EVRG', 'LW', 'JKHY', 'IPG', 'UDR', 'EMN', 'SJM', 'LKQ', 'NI', 'KMX', 'CRL', 'CPT', 'MGM', 'BBWI', 'JNPR', 'ALLE', 'UHS', 'EPAM', 'TAP', 'INCY', 'AOS', 'HRL', 'FFIV', 'TFX', 'HII', 'MOS', 'NWSA', 'CTLT', 'REG', 'TPR', 'HSIC', 'QRVO', 'CHRW', 'AAL', 'DAY', 'APA', 'WYNN', 'AIZ', 'CPB', 'BXP', 'BWA', 'PAYC', 'BF-B', 'GNRC', 'PNW', 'MTCH', 'SOLV', 'MKTX', 'FOXA', 'FMC', 'ETSY', 'HAS', 'RHI', 'CZR', 'FRT', 'DVA', 'IVZ', 'GL', 'CMA', 'BEN', 'RL', 'NCLH', 'MHK', 'BIO', 'PARA', 'FOX', 'NWS']\n"
          ]
        }
      ],
      "source": [
        "\"\"\"\n",
        "function to obtain all tickers in S&P 500 index\n",
        "\"\"\"\n",
        "\n",
        "def list_spy_holdings() -> pd.DataFrame:\n",
        "    # Ref: https://stackoverflow.com/a/75845569/\n",
        "    # Source: https://www.ssga.com/us/en/intermediary/etfs/funds/spdr-sp-500-etf-trust-spy\n",
        "    # Note: One of the included holdings is CASH_USD.\n",
        "    url = 'https://www.ssga.com/us/en/intermediary/etfs/library-content/products/fund-data/etfs/us/holdings-daily-us-en-spy.xlsx'\n",
        "    return pd.read_excel(url, engine='openpyxl', index_col='Ticker', skiprows=4).dropna()\n",
        "\n",
        "SPY_df = list_spy_holdings()\n",
        "\n",
        "ticker_list = SPY_df.index.tolist()\n",
        "\n",
        "ticker_list.remove('-')\n",
        "\n",
        "index_brb, index_bf = ticker_list.index('BRK.B'), ticker_list.index('BF.B')\n",
        "\n",
        "ticker_list[index_brb], ticker_list[index_bf] = 'BRK-B', 'BF-B'\n",
        "\n",
        "print(ticker_list)\n"
      ]
    },
    {
      "cell_type": "code",
      "execution_count": null,
      "metadata": {
        "colab": {
          "base_uri": "https://localhost:8080/"
        },
        "id": "wPWRf3dBzutD",
        "outputId": "f541e16b-42bd-4c71-b560-2a483ae92a1d"
      },
      "outputs": [
        {
          "output_type": "stream",
          "name": "stdout",
          "text": [
            "2023-12-29\n",
            "[datetime.date(2018, 12, 31), datetime.date(2020, 12, 30), datetime.date(2022, 12, 30), datetime.date(2023, 1, 5)]\n"
          ]
        }
      ],
      "source": [
        "\"\"\"\n",
        "get start dates for different time periods and the end date to measure performance.\n",
        "\"\"\"\n",
        "\n",
        "\n",
        "from datetime import date, timedelta\n",
        "from dateutil.relativedelta import relativedelta\n",
        "\n",
        "this_first = date.today().replace(day=1)\n",
        "# end_date = this_first - timedelta(days=1)\n",
        "# end_date = date(2023,11,30)\n",
        "end_date = date(2023,12,29)\n",
        "\n",
        "def get_start_date(from_date = date.today(), years=0, months=0, days=1):\n",
        "\n",
        "  if years==0:\n",
        "    start_date = from_date.replace(month=1, day=1)\n",
        "  else:\n",
        "    start_date = from_date - relativedelta(years=years) + timedelta(days)\n",
        "\n",
        "  w = start_date.isoweekday()\n",
        "\n",
        "  if w == 6:\n",
        "    start_date += timedelta(2)\n",
        "    return start_date\n",
        "  elif w == 7:\n",
        "    start_date += timedelta(1)\n",
        "    return start_date\n",
        "  else:\n",
        "    return start_date\n",
        "\n",
        "periods = ['5yr', '3yr', '1yr', 'YTD']\n",
        "periods_num = [5,3,1,0]\n",
        "\n",
        "start_dates = [get_start_date(end_date, n) for n in periods_num]\n",
        "start_dates[-1] = date(2023,1,5)\n",
        "\n",
        "start_dates_dict = {x:y for (x,y) in list(zip(periods, start_dates))}\n",
        "\n",
        "print(end_date)\n",
        "print(start_dates)"
      ]
    },
    {
      "cell_type": "code",
      "execution_count": null,
      "metadata": {
        "id": "CCPOVM-XJxnU"
      },
      "outputs": [],
      "source": [
        "\"\"\"\n",
        "read file of 5-year security price history.\n",
        "\"\"\"\n",
        "\n",
        "df = pd.read_csv(f\"/content/drive/MyDrive/Colab Notebooks/Investment_{end_date.strftime('%Y%m%d')}/S&P500_Price_Data_{end_date.strftime('%Y%m%d')}.csv\", index_col='date')\n",
        "\n",
        "# print(df)\n",
        "\n",
        "df_BM = df[['Benchmark']]\n",
        "# print(df_BM)"
      ]
    },
    {
      "cell_type": "code",
      "execution_count": null,
      "metadata": {
        "id": "2LYRKL64E8R7"
      },
      "outputs": [],
      "source": [
        "\"\"\"\n",
        "import relevant modules from the packages. Expected returns are calculated using the CAPM model.\n",
        "risk_models calulates the covariance matrix.\n",
        "efficient frontier produces the efficient frontier for all combinations of stocks in the portfolio.\n",
        "plotting produces a graphical representation of the efficient frontier.\n",
        "\"\"\"\n",
        "\n",
        "from pypfopt.expected_returns import mean_historical_return, capm_return\n",
        "from pypfopt.risk_models import CovarianceShrinkage, sample_cov\n",
        "from pypfopt.efficient_frontier import EfficientFrontier\n",
        "from pypfopt import plotting\n",
        "import matplotlib.pyplot as plt\n",
        "from financetoolkit import Toolkit"
      ]
    },
    {
      "cell_type": "code",
      "source": [
        "\"\"\"\n",
        "This calls the security price data for all tickers in the portfolio from the relevant API.\n",
        "\"\"\"\n",
        "\n",
        "companies = Toolkit(\n",
        "\n",
        "    # tickers=['GOOGL', 'MSFT', 'AMZN', 'META', 'NVDA', 'AAPL', 'TSLA', 'GOOG', 'SPY'],\n",
        "    tickers= ['TSLA', 'V', 'NVO', 'ASML', 'AAPL', 'MA', 'DKNG', 'LIN', 'ZTS'],\n",
        "    # tickers = ['AAPL'],\n",
        "    start_date = f\"{start_dates[0]}\",\n",
        "    end_date = f\"{start_dates[-1]}\",\n",
        "    risk_free_rate = \"5y\",\n",
        "    benchmark_ticker = \"SPY\",\n",
        "    api_key=\"d8cbca992455c7db128f6d466565b642\",\n",
        ")"
      ],
      "metadata": {
        "id": "Bn56i7j1MmKO"
      },
      "execution_count": null,
      "outputs": []
    },
    {
      "cell_type": "code",
      "source": [
        "c = companies.get_historical_data()\n",
        "\n",
        "df = pd.DataFrame(c)['Adj Close']\n",
        "print(df)\n",
        "\n",
        "df_BM = df[['Benchmark']]"
      ],
      "metadata": {
        "id": "V6PlylCWxusV",
        "colab": {
          "base_uri": "https://localhost:8080/"
        },
        "outputId": "5694d33d-a301-4b20-b991-e62924a8f0f6"
      },
      "execution_count": null,
      "outputs": [
        {
          "output_type": "stream",
          "name": "stderr",
          "text": [
            "Obtaining historical data: 100%|██████████| 10/10 [00:01<00:00,  9.39it/s]\n"
          ]
        },
        {
          "output_type": "stream",
          "name": "stdout",
          "text": [
            "             TSLA      V   NVO   ASML   AAPL     MA  DKNG    LIN    ZTS  \\\n",
            "date                                                                      \n",
            "2018-12-31  22.19 127.04 21.46 148.37  37.75 182.95   NaN 143.71  82.26   \n",
            "2019-01-02  20.67 127.99  21.8 149.02  37.79  184.0   NaN 144.78  81.24   \n",
            "2019-01-03  20.02 123.38 21.97  140.8  34.03  175.7   NaN 140.26  78.44   \n",
            "2019-01-04  21.18 128.69 22.05 146.89  35.48 184.02   NaN 144.26  81.51   \n",
            "2019-01-07  22.33 131.01 22.19 150.25   35.4 185.44   NaN 144.13   82.0   \n",
            "...           ...    ...   ...    ...    ...    ...   ...    ...    ...   \n",
            "2022-12-29 121.82 205.66 66.65 545.07 128.55 345.08 11.27 324.29 146.06   \n",
            "2022-12-30 123.18 205.36 66.72 540.06 128.87  344.6 11.39 320.78 144.48   \n",
            "2023-01-03  108.1 204.99 67.52  543.2 124.05 343.68 11.05 313.08 144.78   \n",
            "2023-01-04 113.64 210.15 67.42 564.21 125.33 351.95 11.71 311.53 146.86   \n",
            "2023-01-05 110.34 208.67 67.17 558.76  124.0  348.6 11.48 300.43  143.4   \n",
            "\n",
            "            Benchmark  \n",
            "date                   \n",
            "2018-12-31      229.6  \n",
            "2019-01-02     229.84  \n",
            "2019-01-03     224.36  \n",
            "2019-01-04     231.87  \n",
            "2019-01-07      233.7  \n",
            "...               ...  \n",
            "2022-12-29     376.53  \n",
            "2022-12-30     375.54  \n",
            "2023-01-03     373.96  \n",
            "2023-01-04     376.84  \n",
            "2023-01-05     372.54  \n",
            "\n",
            "[1012 rows x 10 columns]\n"
          ]
        }
      ]
    },
    {
      "cell_type": "code",
      "source": [
        "\"\"\"\n",
        "calculates the expected returns using the CAPM model. The parameters are 5-year market returns (S&P index) and 5-year US Treasury rate\n",
        "\"\"\"\n",
        "\n",
        "# Fine Tuned\n",
        "\n",
        "# 5y US Treasuries - 01/05/2024\n",
        "rf = 0.04567\n",
        "\n",
        "mu = capm_return(df, df_BM, risk_free_rate=rf)\n",
        "S = CovarianceShrinkage(df).ledoit_wolf()\n",
        "\n",
        "print(mu)\n",
        "print(S)"
      ],
      "metadata": {
        "id": "oncdDqcnXTJZ",
        "colab": {
          "base_uri": "https://localhost:8080/"
        },
        "outputId": "f6415e39-8c48-4eb5-efbf-c4d6f7b00131"
      },
      "execution_count": null,
      "outputs": [
        {
          "output_type": "stream",
          "name": "stdout",
          "text": [
            "TSLA        0.16775574689176656\n",
            "V            0.1356040442745489\n",
            "NVO         0.09165745435891412\n",
            "ASML        0.16115505031480773\n",
            "AAPL        0.14852795525418305\n",
            "MA           0.1471319411233066\n",
            "DKNG         0.1726230632007832\n",
            "LIN         0.12566253717374576\n",
            "ZTS          0.1236599608338992\n",
            "Benchmark   0.12822136888047253\n",
            "Name: mkt, dtype: float64\n",
            "                         TSLA                    V                  NVO  \\\n",
            "TSLA       0.4497081937323608   0.0749013234360625  0.03407202976466675   \n",
            "V          0.0749013234360625    0.093133125078957 0.030268123789539744   \n",
            "NVO       0.03407202976466675 0.030268123789539744  0.07736904738997642   \n",
            "ASML      0.13298188122705873  0.07423264122591468  0.04314123434234253   \n",
            "AAPL      0.11351067923689752  0.06450470366172967  0.03256400258415697   \n",
            "MA         0.0843222181757439  0.09399202571300744  0.03089180915583535   \n",
            "DKNG      0.15166435550317145  0.06869605753933894 0.037194399964943455   \n",
            "LIN       0.06019346264276683  0.05529623783324604 0.031496981227762504   \n",
            "ZTS       0.06485842819820997 0.054713786838087676  0.03457990225426054   \n",
            "Benchmark 0.07366122384214584  0.05426228642570365  0.02774682758394046   \n",
            "\n",
            "                         ASML                AAPL                   MA  \\\n",
            "TSLA      0.13298188122705873 0.11351067923689752   0.0843222181757439   \n",
            "V         0.07423264122591468 0.06450470366172967  0.09399202571300744   \n",
            "NVO       0.04314123434234253 0.03256400258415697  0.03089180915583535   \n",
            "ASML      0.17956126168002334 0.09323629790000577   0.0832564333957712   \n",
            "AAPL      0.09323629790000577 0.12018642456048653  0.07296010787577749   \n",
            "MA         0.0832564333957712 0.07296010787577749  0.11815669552854001   \n",
            "DKNG      0.10463668718914594 0.07804747085946483  0.07641698761225615   \n",
            "LIN       0.07102288092687493 0.05413275831224284  0.06260720583053325   \n",
            "ZTS       0.06608899317726216 0.05950554317644619 0.059880694456653304   \n",
            "Benchmark  0.0696786509337743 0.06206001158055549  0.06121771743894328   \n",
            "\n",
            "                          DKNG                  LIN                  ZTS  \\\n",
            "TSLA       0.15166435550317145  0.06019346264276683  0.06485842819820997   \n",
            "V          0.06869605753933894  0.05529623783324604 0.054713786838087676   \n",
            "NVO       0.037194399964943455 0.031496981227762504  0.03457990225426054   \n",
            "ASML       0.10463668718914594  0.07102288092687493  0.06608899317726216   \n",
            "AAPL       0.07804747085946483  0.05413275831224284  0.05950554317644619   \n",
            "MA         0.07641698761225615  0.06260720583053325 0.059880694456653304   \n",
            "DKNG       0.46258238671918606 0.052100204984523994  0.05836094405072755   \n",
            "LIN       0.052100204984523994  0.07987202066143542  0.04645878895133845   \n",
            "ZTS        0.05836094405072755  0.04645878895133845  0.08600913399693154   \n",
            "Benchmark  0.06579322767288003  0.04826401391212556 0.047055746544427075   \n",
            "\n",
            "                     Benchmark  \n",
            "TSLA       0.07366122384214584  \n",
            "V          0.05426228642570365  \n",
            "NVO        0.02774682758394046  \n",
            "ASML        0.0696786509337743  \n",
            "AAPL       0.06206001158055549  \n",
            "MA         0.06121771743894328  \n",
            "DKNG       0.06579322767288003  \n",
            "LIN        0.04826401391212556  \n",
            "ZTS       0.047055746544427075  \n",
            "Benchmark 0.052497854729188234  \n"
          ]
        }
      ]
    },
    {
      "cell_type": "code",
      "source": [
        "\"\"\"\n",
        "Calculates efficient frontier. Also calculates the weights that maximise the sharpe ratio of the portfolio.\n",
        "\"\"\"\n",
        "\n",
        "ef = EfficientFrontier(mu, S)\n",
        "weights = ef.max_sharpe()\n",
        "\n",
        "cleaned_weights = ef.clean_weights()\n",
        "# ef.save_weights_to_file(\"weights.txt\")  # saves to file\n",
        "\n",
        "cleaned_weights_reduced = {x:y for x,y in cleaned_weights.items() if y!=0}\n",
        "print(cleaned_weights_reduced)\n",
        "\n",
        "ef_pp = ef.portfolio_performance(verbose=True)"
      ],
      "metadata": {
        "colab": {
          "base_uri": "https://localhost:8080/"
        },
        "id": "QnvbpbkVBDb5",
        "outputId": "cce678e2-82fa-4d17-ff86-63c14d845978"
      },
      "execution_count": null,
      "outputs": [
        {
          "output_type": "stream",
          "name": "stdout",
          "text": [
            "{'V': 0.02645, 'NVO': 0.09292, 'AAPL': 0.00652, 'DKNG': 0.0215, 'LIN': 0.06265, 'ZTS': 0.04122, 'Benchmark': 0.74874}\n",
            "Expected annual return: 12.6%\n",
            "Annual volatility: 22.1%\n",
            "Sharpe Ratio: 0.48\n"
          ]
        }
      ]
    },
    {
      "cell_type": "code",
      "source": [
        "\"\"\"\n",
        "caluclates the weights of the minimum variance portfolio.\n",
        "\"\"\"\n",
        "# Minimum Variance portfolio\n",
        "\n",
        "S = CovarianceShrinkage(df).ledoit_wolf()\n",
        "\n",
        "# You don't have to provide expected returns in this case\n",
        "ef_mv = EfficientFrontier(None, S, weight_bounds=(0, 1))\n",
        "ef_mv.min_volatility()\n",
        "weights = ef_mv.clean_weights()\n",
        "print(weights)\n",
        "\n",
        "ef_pp = ef_mv.portfolio_performance(verbose=True)"
      ],
      "metadata": {
        "colab": {
          "base_uri": "https://localhost:8080/"
        },
        "id": "MSQh3UgvB05l",
        "outputId": "d2fb70b3-805c-4594-89f2-962fa1b40897"
      },
      "execution_count": null,
      "outputs": [
        {
          "output_type": "stream",
          "name": "stdout",
          "text": [
            "OrderedDict([('TSLA', 0.0), ('V', 0.0), ('NVO', 0.32327), ('ASML', 0.0), ('AAPL', 0.0), ('MA', 0.0), ('DKNG', 0.0), ('LIN', 0.0431), ('ZTS', 0.02967), ('Benchmark', 0.60396)])\n",
            "Annual volatility: 21.0%\n"
          ]
        }
      ]
    },
    {
      "cell_type": "code",
      "source": [
        "ef_pp = ef.portfolio_performance(verbose=True)"
      ],
      "metadata": {
        "colab": {
          "base_uri": "https://localhost:8080/"
        },
        "id": "BAYAQBrqC_Aq",
        "outputId": "e92f5ed3-9a2d-41e5-ab2b-90ca1de755c5"
      },
      "execution_count": null,
      "outputs": [
        {
          "output_type": "stream",
          "name": "stdout",
          "text": [
            "Expected annual return: 12.6%\n",
            "Annual volatility: 22.1%\n",
            "Sharpe Ratio: 0.48\n"
          ]
        }
      ]
    },
    {
      "cell_type": "code",
      "source": [
        "\"\"\"\n",
        "creates a sample of 10,000 different portfolios with random weights.\n",
        "\"\"\"\n",
        "\n",
        "n_samples = 10000\n",
        "w = np.random.dirichlet(np.ones(len(mu)), n_samples)\n",
        "rets = w.dot(mu)\n",
        "stds = np.sqrt((w.T * (S @ w.T)).sum(axis=0))\n",
        "sharpes = rets / stds\n",
        "\n",
        "print(\"Sample portfolio returns:\", rets)\n",
        "print(\"Sample portfolio volatilities:\", stds)"
      ],
      "metadata": {
        "id": "thmiGYDUFbMo",
        "colab": {
          "base_uri": "https://localhost:8080/"
        },
        "outputId": "fe753ccc-befe-4737-d0ca-e579af722783"
      },
      "execution_count": null,
      "outputs": [
        {
          "output_type": "stream",
          "name": "stdout",
          "text": [
            "Sample portfolio returns: [0.13883398 0.13128835 0.14233383 ... 0.13360054 0.15554489 0.1484734 ]\n",
            "Sample portfolio volatilities: 0       0.2800292457849438\n",
            "1      0.25168991959091913\n",
            "2       0.3255989665978453\n",
            "3      0.37196211906121945\n",
            "4      0.30983121838235106\n",
            "               ...        \n",
            "9995    0.2928287602524862\n",
            "9996   0.28138791352205145\n",
            "9997   0.24885037924613623\n",
            "9998   0.38505706783256793\n",
            "9999   0.33547489453256046\n",
            "Length: 10000, dtype: float64\n"
          ]
        }
      ]
    },
    {
      "cell_type": "code",
      "source": [
        "\"\"\"\n",
        "Plot efficient frontier with Monte Carlo simulation\n",
        "\"\"\"\n",
        "ef_ = EfficientFrontier(mu, S)\n",
        "\n",
        "fig, ax = plt.subplots()\n",
        "plotting.plot_efficient_frontier(ef_, ax=ax, show_assets=False)\n",
        "\n",
        "# Find and plot the tangency portfolio\n",
        "ef2 = EfficientFrontier(mu, S)\n",
        "ef2.max_sharpe()\n",
        "ret_tangent, std_tangent, _ = ef2.portfolio_performance()\n",
        "ax.scatter(std_tangent, ret_tangent, marker=\"*\", s=100, c=\"r\", label=\"Max Sharpe\")\n",
        "\n",
        "# Plot random portfolios\n",
        "ax.scatter(stds, rets, marker=\".\", c=sharpes, cmap=\"viridis_r\")\n",
        "\n",
        "# Format\n",
        "ax.set_title(\"Efficient Frontier with random portfolios\")\n",
        "ax.legend()\n",
        "plt.tight_layout()\n",
        "plt.show()"
      ],
      "metadata": {
        "colab": {
          "base_uri": "https://localhost:8080/",
          "height": 486
        },
        "id": "bogBdb-3FXWb",
        "outputId": "7b3f1b1c-3ffa-4506-d1c6-ab38b4b8643d"
      },
      "execution_count": null,
      "outputs": [
        {
          "output_type": "display_data",
          "data": {
            "text/plain": [
              "<Figure size 640x480 with 1 Axes>"
            ],
            "image/png": "[encoded data removed]"
          },
          "metadata": {}
        }
      ]
    },
    {
      "cell_type": "code",
      "execution_count": null,
      "metadata": {
        "colab": {
          "base_uri": "https://localhost:8080/"
        },
        "id": "jOZr2rjeTGcd",
        "outputId": "59d14355-305a-450f-9a50-d3d8e1a1c725"
      },
      "outputs": [
        {
          "output_type": "stream",
          "name": "stdout",
          "text": [
            "{'NVO': 361, 'DKNG': 4, 'LIN': 11, 'ZTS': 16, 'Benchmark': 121}\n",
            "Cash: 29.24\n"
          ]
        }
      ],
      "source": [
        "\"\"\"\n",
        "gets discrete allocation, i.e. number of shares to but that closest matches\n",
        "\"\"\"\n",
        "\n",
        "from pypfopt.discrete_allocation import DiscreteAllocation, get_latest_prices\n",
        "\n",
        "fund_value = 75000\n",
        "\n",
        "latest_prices = get_latest_prices(df)\n",
        "\n",
        "\n",
        "da = DiscreteAllocation(weights, latest_prices, total_portfolio_value=fund_value)\n",
        "allocation, leftover = da.lp_portfolio()\n",
        "# allocation['USD'] = round(leftover, 2)\n",
        "print(allocation)\n",
        "print(str('Cash:'), np.round(leftover,2))\n",
        "\n"
      ]
    },
    {
      "cell_type": "code",
      "source": [
        "\"\"\"\n",
        "Calculcates Benchmark expected return and covariance matrix\n",
        "\n",
        "\"\"\"\n",
        "\n",
        "mu_bm = capm_return(df_BM, df_BM, risk_free_rate=rf)\n",
        "S_bm = CovarianceShrinkage(df_BM).ledoit_wolf()"
      ],
      "metadata": {
        "id": "zIhDUJL4johX"
      },
      "execution_count": null,
      "outputs": []
    },
    {
      "cell_type": "code",
      "source": [
        "\"\"\"\n",
        "calculates volatility of the benchmark. Weight defaults to 1.\n",
        "\n",
        "\"\"\"\n",
        "\n",
        "ef_bm = EfficientFrontier(mu_bm, S_bm)\n",
        "weights_bm = ef_bm.max_sharpe()\n",
        "\n",
        "cleaned_weights_bm = ef_bm.clean_weights()\n",
        "# ef.save_weights_to_file(\"weights.txt\")  # saves to file\n",
        "\n",
        "cleaned_weights_bm_reduced = {x:y for x,y in cleaned_weights_bm.items() if y!=0}\n",
        "print(cleaned_weights_bm_reduced)\n",
        "\n",
        "ef_bm_pp = ef_bm.portfolio_performance(verbose=True)"
      ],
      "metadata": {
        "colab": {
          "base_uri": "https://localhost:8080/"
        },
        "id": "GYy4cGI3qg6j",
        "outputId": "3ae9fcb9-9d62-474c-c7e0-d39f3ae7201e"
      },
      "execution_count": null,
      "outputs": [
        {
          "output_type": "stream",
          "name": "stdout",
          "text": [
            "{'Benchmark': 1.0}\n",
            "Expected annual return: 15.6%\n",
            "Annual volatility: 21.0%\n",
            "Sharpe Ratio: 0.65\n"
          ]
        }
      ]
    },
    {
      "cell_type": "code",
      "execution_count": null,
      "metadata": {
        "colab": {
          "base_uri": "https://localhost:8080/"
        },
        "id": "5DvFQXM6rLD0",
        "outputId": "39d8eaf4-46bd-4763-e2af-c1c4217f7f92"
      },
      "outputs": [
        {
          "output_type": "stream",
          "name": "stdout",
          "text": [
            "0\n"
          ]
        }
      ],
      "source": [
        "spare_cash = 1 - sum(list(cleaned_weights_reduced.values()))\n",
        "\n",
        "residual = max(0, spare_cash)\n",
        "print(residual)\n",
        "\n",
        "# cleaned_weights_reduced['USD'] = round(residual, 5)\n",
        "\n",
        "# print(cleaned_weights_reduced['USD'])"
      ]
    },
    {
      "cell_type": "code",
      "source": [
        "# ef.save_weights_to_file(\"weights.txt\")  # saves to file"
      ],
      "metadata": {
        "id": "NFqIkbT9osDy"
      },
      "execution_count": null,
      "outputs": []
    },
    {
      "cell_type": "code",
      "source": [
        "no_of_stocks = list(allocation.keys())\n",
        "print(len(no_of_stocks))\n",
        "\n",
        "stocks = len(list(cleaned_weights_reduced.keys()))\n",
        "print(stocks)"
      ],
      "metadata": {
        "id": "duIWDUle5Yev",
        "colab": {
          "base_uri": "https://localhost:8080/"
        },
        "outputId": "4770fe19-f812-420f-8c1f-ba475f95662b"
      },
      "execution_count": null,
      "outputs": [
        {
          "output_type": "stream",
          "name": "stdout",
          "text": [
            "35\n",
            "47\n"
          ]
        }
      ]
    },
    {
      "cell_type": "code",
      "source": [
        "def calc_returns(df, tickers, weights, start, end, rebal=None, inc=1):\n",
        "\n",
        "  df_new = df[tickers].loc[str(start):, ]\n",
        "\n",
        "  df_new = df_new.bfill()\n",
        "\n",
        "  num = np.array(df_new.to_numpy().transpose())\n",
        "\n",
        "  weights = np.array([weights])\n",
        "\n",
        "  # print(weights)\n",
        "\n",
        "  sum_wgts = sum(weights[0])\n",
        "\n",
        "  if rebal is None:\n",
        "\n",
        "    z = df_new[tickers].loc[str(start)].to_numpy()\n",
        "    a = df_new[tickers].loc[str(end_date)].to_numpy()\n",
        "\n",
        "    div = np.divide(a, z)\n",
        "\n",
        "    matrix = weights @ div\n",
        "\n",
        "    result = np.round( (matrix[0] - sum_wgts ) * 100, 3)\n",
        "    return result\n",
        "\n",
        "  else:\n",
        "\n",
        "    if num.shape[1] < rebal:\n",
        "      rebal = num.shape[1] - 1\n",
        "\n",
        "    if rebal > 1:\n",
        "      inc = rebal + 1\n",
        "\n",
        "    m = np.array([num[n][rebal::inc] for n in range(len(num))])\n",
        "    o = np.array([num[n][:-rebal:inc] for n in range(len(num))])\n",
        "\n",
        "    div = np.array([(np.divide(m[i], o[i])) for i in range(len(num))])\n",
        "    div[np.isnan(div)] = 1.0\n",
        "\n",
        "    r_prod = weights @ div\n",
        "\n",
        "    result = np.round((np.product(r_prod) - sum_wgts) * 100, 3)\n",
        "\n",
        "    return result\n"
      ],
      "metadata": {
        "id": "M-zxJZP_82IG"
      },
      "execution_count": null,
      "outputs": []
    },
    {
      "cell_type": "code",
      "source": [
        "weights = tuple(cleaned_weights_reduced.values())[:]\n",
        "tickers = list(cleaned_weights_reduced.keys())[:]\n",
        "print(len(tickers))"
      ],
      "metadata": {
        "colab": {
          "base_uri": "https://localhost:8080/"
        },
        "id": "2cRwLenhZcIp",
        "outputId": "617f359d-a1b2-4da9-e64b-a0719ef66abb"
      },
      "execution_count": null,
      "outputs": [
        {
          "output_type": "stream",
          "name": "stdout",
          "text": [
            "47\n"
          ]
        }
      ]
    },
    {
      "cell_type": "code",
      "source": [
        "freq = 5\n",
        "\n",
        "S_test = CovarianceShrinkage(df, frequency=252/freq).ledoit_wolf()\n",
        "# print(S_test)\n",
        "\n",
        "a = np.array([tuple(cleaned_weights.values())])\n",
        "\n",
        "p_var = a @ S_test.to_numpy() @ a.T\n",
        "\n",
        "std_dev = np.sqrt(p_var)\n",
        "\n",
        "std_dev_ann = np.sqrt(p_var) * ((252/freq) ** (.5))\n",
        "print(p_var)\n",
        "print(std_dev)\n",
        "print(std_dev_ann)"
      ],
      "metadata": {
        "colab": {
          "base_uri": "https://localhost:8080/"
        },
        "id": "FukS-Tj-sHuI",
        "outputId": "44219ea3-28df-48eb-d7e2-c4aaa2e2849d"
      },
      "execution_count": null,
      "outputs": [
        {
          "output_type": "stream",
          "name": "stdout",
          "text": [
            "[[9.7216701e-05]]\n",
            "[[0.00985985]]\n",
            "[[0.06999801]]\n"
          ]
        }
      ]
    },
    {
      "cell_type": "code",
      "source": [
        "def real_vol(df, start, weights, rebal = 1):\n",
        "\n",
        "  if rebal is None:\n",
        "    rebal = 1\n",
        "\n",
        "  freq = 252/rebal\n",
        "\n",
        "  df_new = df.loc[str(start):, ]\n",
        "  S_cov_shrink = CovarianceShrinkage(df_new, frequency=freq).ledoit_wolf().to_numpy()\n",
        "  # print(S_cov_shrink.shape)\n",
        "  weights_array = np.array([weights])\n",
        "  p_var = weights_array @ S_cov_shrink @ weights_array.T\n",
        "  std_dev = np.sqrt(p_var)\n",
        "  std_dev_ann = std_dev * ((252/freq) ** .5)\n",
        "  try:\n",
        "    return std_dev_ann[0][0]\n",
        "  except:\n",
        "    return  std_dev_ann\n",
        "  # return std_dev[0][0]\n",
        "\n",
        "wgts = tuple(cleaned_weights.values())\n",
        "\n",
        "vols = np.array([real_vol(df, start, wgts, 1) for start in start_dates])\n",
        "vol_array = np.tile(vols, (6,1))\n",
        "vol_array_T = vol_array.T * 100\n",
        "print(vol_array_T)"
      ],
      "metadata": {
        "colab": {
          "base_uri": "https://localhost:8080/"
        },
        "id": "Mtw_Ru4GuuBt",
        "outputId": "8b75fcb7-3aea-4a05-96ba-dd748cba1119"
      },
      "execution_count": null,
      "outputs": [
        {
          "output_type": "stream",
          "name": "stdout",
          "text": [
            "[[ 6.99980123  6.99980123  6.99980123  6.99980123  6.99980123  6.99980123]\n",
            " [ 7.97585939  7.97585939  7.97585939  7.97585939  7.97585939  7.97585939]\n",
            " [12.12867948 12.12867948 12.12867948 12.12867948 12.12867948 12.12867948]\n",
            " [12.1237494  12.1237494  12.1237494  12.1237494  12.1237494  12.1237494 ]]\n"
          ]
        }
      ]
    },
    {
      "cell_type": "code",
      "source": [
        "#bm vol\n",
        "\n",
        "vols_bm = np.array([real_vol(df_BM, start, 1, 1) for start in start_dates])\n",
        "vol_bm_array = np.tile(vols_bm, (6,1))\n",
        "vol_bm_array_T = vol_bm_array.T * 100"
      ],
      "metadata": {
        "id": "1_P19OpLMxAX"
      },
      "execution_count": null,
      "outputs": []
    },
    {
      "cell_type": "code",
      "source": [
        "# calculate returns\n",
        "\n",
        "weights = tuple(cleaned_weights_reduced.values())[:]\n",
        "tickers = list(cleaned_weights_reduced.keys())[:]\n",
        "rebal_freq = {'No Rebalancing (%)': None, 'Daily (%)': 1, 'Weekly (%)': 5, 'Monthly (%)': 20, 'Quarterly': 60, 'Yearly (%)': 252}\n",
        "\n",
        "returns = np.array([[calc_returns(df, tickers, weights, s, end_date, rebal=r ) for s in start_dates] for r in list(rebal_freq.values())])\n",
        "\n",
        "# returns = np.array(calc_returns(df, tickers, weights, start_dates[-1], end_date, rebal=None ))\n",
        "\n",
        "bm_returns = np.array([[calc_returns(df, ['Benchmark'], [1], s, end_date, rebal=r ) for s in start_dates] for r in list(rebal_freq.values())])\n",
        "\n",
        "print(returns)\n",
        "print(bm_returns)"
      ],
      "metadata": {
        "colab": {
          "base_uri": "https://localhost:8080/"
        },
        "id": "PcoMnZgHtAwj",
        "outputId": "2031b218-0c78-4ac0-f8db-689aa9c01ee8"
      },
      "execution_count": null,
      "outputs": [
        {
          "output_type": "stream",
          "name": "stdout",
          "text": [
            "[[36.872 22.22   7.472  8.629]\n",
            " [32.545 20.486  7.886  8.759]\n",
            " [17.895  9.535  1.803  8.198]\n",
            " [26.177 14.772  4.806  1.44 ]\n",
            " [16.588 11.251  6.651  6.41 ]\n",
            " [22.839 11.327  7.472  8.629]]\n",
            "[[106.369  33.578  26.177  26.709]\n",
            " [106.369  33.578  26.177  26.709]\n",
            " [ 74.829  21.768  20.707  22.57 ]\n",
            " [110.062  22.788  16.814  20.675]\n",
            " [101.507  25.123  24.733  24.436]\n",
            " [ 63.023   5.687  26.177  26.709]]\n"
          ]
        }
      ]
    },
    {
      "cell_type": "code",
      "source": [
        "# performance - annualised\n",
        "\n",
        "def annualised_returns(df, start, end, ret, rebal, inc=252):\n",
        "\n",
        "  if rebal == 0:\n",
        "\n",
        "    index_vals = df.index.values.tolist()\n",
        "\n",
        "    end = index_vals.index(str(end))\n",
        "\n",
        "    start = index_vals.index(str(start))\n",
        "\n",
        "    rebal = ( end - start ) / inc\n",
        "\n",
        "  ann = np.round(((( 1 + ret / 100) ** (1/rebal)) - 1 ) * 100, 3)\n",
        "\n",
        "  return ann\n",
        "\n",
        "returns_T = returns.T\n",
        "bm_returns_T = bm_returns.T\n",
        "\n",
        "portfolio_annualised_returns = np.array([[annualised_returns(df, start, end_date, rets, rebal) for rets in returns_T[n]] for start, n, rebal in zip(start_dates, range(len(returns_T)), periods_num)])\n",
        "bm_returns_ann = np.array([annualised_returns(df, start, end_date, bm, rebal) for start, bm, rebal in zip(start_dates, bm_returns_T, periods_num)])\n",
        "\n",
        "print(portfolio_annualised_returns)\n",
        "print(bm_returns_ann)"
      ],
      "metadata": {
        "colab": {
          "base_uri": "https://localhost:8080/"
        },
        "id": "amiUI38py21j",
        "outputId": "5278f2b7-4d9e-4e6e-93b9-054b84448433"
      },
      "execution_count": null,
      "outputs": [
        {
          "output_type": "stream",
          "name": "stdout",
          "text": [
            "[[6.479 5.797 3.347 4.76  3.117 4.2  ]\n",
            " [6.917 6.409 3.082 4.7   3.618 3.641]\n",
            " [7.472 7.886 1.803 4.806 6.651 7.472]\n",
            " [8.737 8.869 8.301 1.457 6.49  8.737]]\n",
            "[[15.592 15.592 11.821 16.003 15.042 10.268]\n",
            " [10.132 10.132  6.785  7.083  7.757  1.861]\n",
            " [26.177 26.177 20.707 16.814 24.733 26.177]\n",
            " [27.071 27.071 22.871 20.949 24.764 27.071]]\n"
          ]
        }
      ]
    },
    {
      "cell_type": "code",
      "source": [
        "# sharpes\n",
        "\n",
        "sharpe = np.round(np.divide(portfolio_annualised_returns, vol_array_T), 3)\n",
        "print(sharpe)\n",
        "\n",
        "sharpe_bm = np.round(np.divide(bm_returns_ann, vol_bm_array_T), 3)\n",
        "print(sharpe_bm)\n",
        "\n",
        "sharpe_differential = sharpe - sharpe_bm\n",
        "print(sharpe_differential)"
      ],
      "metadata": {
        "colab": {
          "base_uri": "https://localhost:8080/"
        },
        "id": "sWDkVI3nMryk",
        "outputId": "b352f6e4-aad5-4bd8-e720-9ea603d56283"
      },
      "execution_count": null,
      "outputs": [
        {
          "output_type": "stream",
          "name": "stdout",
          "text": [
            "[[0.926 0.828 0.478 0.68  0.445 0.6  ]\n",
            " [0.867 0.804 0.386 0.589 0.454 0.457]\n",
            " [0.616 0.65  0.149 0.396 0.548 0.616]\n",
            " [0.721 0.732 0.685 0.12  0.535 0.721]]\n",
            "[[0.743 0.743 0.563 0.763 0.717 0.489]\n",
            " [0.576 0.576 0.386 0.403 0.441 0.106]\n",
            " [2.006 2.006 1.587 1.289 1.896 2.006]\n",
            " [2.072 2.072 1.751 1.604 1.896 2.072]]\n",
            "[[ 0.183  0.085 -0.085 -0.083 -0.272  0.111]\n",
            " [ 0.291  0.228  0.     0.186  0.013  0.351]\n",
            " [-1.39  -1.356 -1.438 -0.893 -1.348 -1.39 ]\n",
            " [-1.351 -1.34  -1.066 -1.484 -1.361 -1.351]]\n"
          ]
        }
      ]
    },
    {
      "cell_type": "code",
      "source": [
        "# standard deviations\n",
        "w = np.array([list(cleaned_weights.values())])\n",
        "\n",
        "stds = np.sqrt(np.diag(w @ ef.cov_matrix @ w.T))\n",
        "# print(stds[0])\n",
        "std_bm = np.sqrt(ef_bm.cov_matrix)[0][0]\n",
        "\n",
        "sharpes = np.round(np.divide(portfolio_annualised_returns, stds*100), 3)\n",
        "sharpes_bm = np.round(np.divide(bm_returns_ann, std_bm*100), 3)\n",
        "\n",
        "print(sharpes)\n",
        "print(sharpes_bm)"
      ],
      "metadata": {
        "colab": {
          "base_uri": "https://localhost:8080/"
        },
        "id": "DcJRSM7rYxLe",
        "outputId": "a63429f1-4263-4be6-cb43-007f9723e748"
      },
      "execution_count": null,
      "outputs": [
        {
          "output_type": "stream",
          "name": "stdout",
          "text": [
            "[[0.926 0.828 0.478 0.68  0.445 0.6  ]\n",
            " [0.988 0.916 0.44  0.671 0.517 0.52 ]\n",
            " [1.067 1.127 0.258 0.687 0.95  1.067]\n",
            " [1.248 1.267 1.186 0.208 0.927 1.248]]\n",
            "[[0.743 0.743 0.563 0.763 0.717 0.489]\n",
            " [0.483 0.483 0.323 0.338 0.37  0.089]\n",
            " [1.248 1.248 0.987 0.801 1.179 1.248]\n",
            " [1.29  1.29  1.09  0.999 1.18  1.29 ]]\n"
          ]
        }
      ]
    },
    {
      "cell_type": "code",
      "source": [
        "# generate data frames for reports\n",
        "\n",
        "df_returns = pd.DataFrame(returns_T, columns=list(rebal_freq.keys()), index=periods)\n",
        "df_bm_returns = pd.DataFrame(bm_returns_T, columns=list(rebal_freq.keys()), index=periods)\n",
        "\n",
        "print(df_returns)\n",
        "print(df_bm_returns)"
      ],
      "metadata": {
        "id": "dJQKjbb92Ob5",
        "colab": {
          "base_uri": "https://localhost:8080/"
        },
        "outputId": "aae47b74-f0b8-4520-c436-0cbbe2028e25"
      },
      "execution_count": null,
      "outputs": [
        {
          "output_type": "stream",
          "name": "stdout",
          "text": [
            "     No Rebalancing (%)  Daily (%)  Weekly (%)  Monthly (%)  Quarterly  \\\n",
            "5yr              36.872     32.545      17.895       26.177     16.588   \n",
            "3yr              22.220     20.486       9.535       14.772     11.251   \n",
            "1yr               7.472      7.886       1.803        4.806      6.651   \n",
            "YTD               8.629      8.759       8.198        1.440      6.410   \n",
            "\n",
            "     Yearly (%)  \n",
            "5yr      22.839  \n",
            "3yr      11.327  \n",
            "1yr       7.472  \n",
            "YTD       8.629  \n",
            "     No Rebalancing (%)  Daily (%)  Weekly (%)  Monthly (%)  Quarterly  \\\n",
            "5yr             106.369    106.369      74.829      110.062    101.507   \n",
            "3yr              33.578     33.578      21.768       22.788     25.123   \n",
            "1yr              26.177     26.177      20.707       16.814     24.733   \n",
            "YTD              26.709     26.709      22.570       20.675     24.436   \n",
            "\n",
            "     Yearly (%)  \n",
            "5yr      63.023  \n",
            "3yr       5.687  \n",
            "1yr      26.177  \n",
            "YTD      26.709  \n"
          ]
        }
      ]
    },
    {
      "cell_type": "code",
      "source": [
        "df_returns_ann = pd.DataFrame(portfolio_annualised_returns, columns=list(rebal_freq.keys()), index=periods)\n",
        "df_bm_returns_ann = pd.DataFrame(bm_returns_ann, columns=list(rebal_freq.keys()), index=periods)\n",
        "\n",
        "print(df_returns_ann)\n",
        "print(df_bm_returns_ann)"
      ],
      "metadata": {
        "colab": {
          "base_uri": "https://localhost:8080/"
        },
        "id": "BUiJyVQWrN_t",
        "outputId": "6b183c84-c1e0-4d1e-86a2-13fb586952bb"
      },
      "execution_count": null,
      "outputs": [
        {
          "output_type": "stream",
          "name": "stdout",
          "text": [
            "     No Rebalancing (%)  Daily (%)  Weekly (%)  Monthly (%)  Quarterly  \\\n",
            "5yr               6.479      5.797       3.347        4.760      3.117   \n",
            "3yr               6.917      6.409       3.082        4.700      3.618   \n",
            "1yr               7.472      7.886       1.803        4.806      6.651   \n",
            "YTD               8.737      8.869       8.301        1.457      6.490   \n",
            "\n",
            "     Yearly (%)  \n",
            "5yr       4.200  \n",
            "3yr       3.641  \n",
            "1yr       7.472  \n",
            "YTD       8.737  \n",
            "     No Rebalancing (%)  Daily (%)  Weekly (%)  Monthly (%)  Quarterly  \\\n",
            "5yr              15.592     15.592      11.821       16.003     15.042   \n",
            "3yr              10.132     10.132       6.785        7.083      7.757   \n",
            "1yr              26.177     26.177      20.707       16.814     24.733   \n",
            "YTD              27.071     27.071      22.871       20.949     24.764   \n",
            "\n",
            "     Yearly (%)  \n",
            "5yr      10.268  \n",
            "3yr       1.861  \n",
            "1yr      26.177  \n",
            "YTD      27.071  \n"
          ]
        }
      ]
    },
    {
      "cell_type": "code",
      "source": [
        "#vols\n",
        "\n",
        "vol_df = pd.DataFrame(vol_array_T, columns=list(rebal_freq.keys()), index=periods).iloc[:, :1]\n",
        "vol_bm_df = pd.DataFrame(vol_bm_array_T, columns=list(rebal_freq.keys()), index=periods).iloc[:, :1]\n",
        "\n",
        "print(vol_df)\n",
        "\n",
        "# sharpes\n",
        "\n",
        "sharpe_df = pd.DataFrame(sharpe, columns=list(rebal_freq.keys()), index=periods)\n",
        "sharpe_bm_df = pd.DataFrame(sharpe_bm, columns=list(rebal_freq.keys()), index=periods)\n",
        "sharpe_diff_df = pd.DataFrame(sharpe_differential, columns=list(rebal_freq.keys()), index=periods)\n",
        "\n",
        "print(sharpe_df)"
      ],
      "metadata": {
        "colab": {
          "base_uri": "https://localhost:8080/"
        },
        "id": "fynK3Gm-QAXW",
        "outputId": "6d0b361e-1c49-4ffa-d475-c15dfea341d1"
      },
      "execution_count": null,
      "outputs": [
        {
          "output_type": "stream",
          "name": "stdout",
          "text": [
            "     No Rebalancing (%)\n",
            "5yr            6.999801\n",
            "3yr            7.975859\n",
            "1yr           12.128679\n",
            "YTD           12.123749\n",
            "     No Rebalancing (%)  Daily (%)  Weekly (%)  Monthly (%)  Quarterly  \\\n",
            "5yr               0.926      0.828       0.478        0.680      0.445   \n",
            "3yr               0.867      0.804       0.386        0.589      0.454   \n",
            "1yr               0.616      0.650       0.149        0.396      0.548   \n",
            "YTD               0.721      0.732       0.685        0.120      0.535   \n",
            "\n",
            "     Yearly (%)  \n",
            "5yr       0.600  \n",
            "3yr       0.457  \n",
            "1yr       0.616  \n",
            "YTD       0.721  \n"
          ]
        }
      ]
    },
    {
      "cell_type": "code",
      "source": [
        "# # generate reports csv\n",
        "\n",
        "# weights\n",
        "\n",
        "weights_df = pd.Series(cleaned_weights_reduced).to_frame().reset_index()\n",
        "weights_df.columns = ['Ticker', 'Weight']\n",
        "weights_df.to_csv(f\"/content/drive/MyDrive/Colab Notebooks/Investment_{end_date.strftime('%Y%m%d')}/Weights_{end_date.strftime('%Y%m%d')}.csv\", index=False)\n",
        "\n",
        "\n",
        "# # allocations\n",
        "\n",
        "allocation_df = pd.DataFrame({'symbol': allocation.keys(), 'number': allocation.values()})\n",
        "allocation_df.to_csv(f\"/content/drive/MyDrive/Colab Notebooks/Investment_{end_date.strftime('%Y%m%d')}/Allocation_{end_date.strftime('%Y%m%d')}.csv\", index=False)\n",
        "\n",
        "# # results\n",
        "\n",
        "ef_df = pd.DataFrame({'Measure': ['Expected annual return', 'Annual volatility', 'Sharpe Ratio'], 'Result': ef_pp})\n",
        "ef_df.to_csv(f\"/content/drive/MyDrive/Colab Notebooks/Investment_{end_date.strftime('%Y%m%d')}/Results_{end_date.strftime('%Y%m%d')}.csv\", index=False)\n",
        "\n",
        "ef_bm_df = pd.DataFrame({'Measure': ['Expected annual return', 'Annual volatility', 'Sharpe Ratio'], 'Result': ef_bm_pp})\n",
        "ef_bm_df.to_csv(f\"/content/drive/MyDrive/Colab Notebooks/Investment_{end_date.strftime('%Y%m%d')}/Benchmark_Results_{end_date.strftime('%Y%m%d')}.csv\", index=False)\n",
        "\n",
        "# performance\n",
        "\n",
        "df_returns.to_csv(f\"/content/drive/MyDrive/Colab Notebooks/Investment_{end_date.strftime('%Y%m%d')}/Performance_{end_date.strftime('%Y%m%d')}.csv\")\n",
        "df_bm_returns.to_csv(f\"/content/drive/MyDrive/Colab Notebooks/Investment_{end_date.strftime('%Y%m%d')}/SPY_Performance_{end_date.strftime('%Y%m%d')}.csv\")\n",
        "\n",
        "# performance - annualised\n",
        "\n",
        "df_returns_ann.to_csv(f\"/content/drive/MyDrive/Colab Notebooks/Investment_{end_date.strftime('%Y%m%d')}/Performance_Annualised_{end_date.strftime('%Y%m%d')}.csv\")\n",
        "df_bm_returns_ann.to_csv(f\"/content/drive/MyDrive/Colab Notebooks/Investment_{end_date.strftime('%Y%m%d')}/SPY_Performance_Annusalised_{end_date.strftime('%Y%m%d')}.csv\")\n",
        "\n",
        "#realised vol\n",
        "\n",
        "vol_df.to_csv(f\"/content/drive/MyDrive/Colab Notebooks/Investment_{end_date.strftime('%Y%m%d')}/Realized_Volatility_{end_date.strftime('%Y%m%d')}.csv\")\n",
        "vol_bm_df.to_csv(f\"/content/drive/MyDrive/Colab Notebooks/Investment_{end_date.strftime('%Y%m%d')}/Realized_Volatility_BM_{end_date.strftime('%Y%m%d')}.csv\")\n",
        "\n",
        "# sharpes\n",
        "\n",
        "sharpe_df.to_csv(f\"/content/drive/MyDrive/Colab Notebooks/Investment_{end_date.strftime('%Y%m%d')}/Sharpe_Ratio_{end_date.strftime('%Y%m%d')}.csv\")\n",
        "sharpe_bm_df.to_csv(f\"/content/drive/MyDrive/Colab Notebooks/Investment_{end_date.strftime('%Y%m%d')}/Sharpe_Ratio_BM_{end_date.strftime('%Y%m%d')}.csv\")\n",
        "sharpe_diff_df.to_csv(f\"/content/drive/MyDrive/Colab Notebooks/Investment_{end_date.strftime('%Y%m%d')}/Sharpe_Ratio_Differential_{end_date.strftime('%Y%m%d')}.csv\")"
      ],
      "metadata": {
        "id": "NC1zj4MrCS1Y"
      },
      "execution_count": null,
      "outputs": []
    },
    {
      "cell_type": "code",
      "source": [
        "#!/usr/bin/env python\n",
        "\n",
        "try:\n",
        "    # For Python 3.0 and later\n",
        "    from urllib.request import urlopen\n",
        "except ImportError:\n",
        "    # Fall back to Python 2's urllib2\n",
        "    from urllib2 import urlopen\n",
        "\n",
        "import certifi\n",
        "import json\n",
        "\n",
        "def get_jsonparsed_data(url):\n",
        "    \"\"\"\n",
        "    Receive the content of ``url``, parse it as JSON and return the object.\n",
        "\n",
        "    Parameters\n",
        "    ----------\n",
        "    url : str\n",
        "\n",
        "    Returns\n",
        "    -------\n",
        "    dict\n",
        "    \"\"\"\n",
        "    response = urlopen(url, cafile=certifi.where())\n",
        "    data = response.read().decode(\"utf-8\")\n",
        "    return json.loads(data)\n",
        "\n",
        "url = (\"https://financialmodelingprep.com/api/v3/quotes/index?apikey=d8cbca992455c7db128f6d466565b642\")\n",
        "# print(get_jsonparsed_data(url))\n",
        "\n",
        "indices = get_jsonparsed_data(url)\n",
        "\n",
        "import pandas as pd\n",
        "\n",
        "df_indices = pd.DataFrame(indices)\n",
        "print(df_indices)\n",
        "\n",
        "df_indices.to_csv(\"Indices.csv\", index=False)"
      ],
      "metadata": {
        "colab": {
          "base_uri": "https://localhost:8080/"
        },
        "id": "yhE71pWFc5PS",
        "outputId": "224ef0d2-7a81-4326-d868-ee3b4fbb796f"
      },
      "execution_count": null,
      "outputs": [
        {
          "output_type": "stream",
          "name": "stderr",
          "text": [
            "<ipython-input-67-0042ed80735c>:25: DeprecationWarning: cafile, capath and cadefault are deprecated, use a custom context instead.\n",
            "  response = urlopen(url, cafile=certifi.where())\n"
          ]
        },
        {
          "output_type": "stream",
          "name": "stdout",
          "text": [
            "       symbol                              name      price  changesPercentage  \\\n",
            "0      ^W2DOW    Dow Jones Global ex-U.S. Index    271.560            -1.2545   \n",
            "1    XMADN.IS                   BIST MADENCILIK   5766.490            -0.1759   \n",
            "2      ^W5000  Wilshire 5000 Total Market Index  42053.200             0.0000   \n",
            "3      ^RUITR         Russell 1000 Total Return  16177.121            -0.4019   \n",
            "4     ^SET.BK                         SET Index   1401.720            -0.3767   \n",
            "..        ...                               ...        ...                ...   \n",
            "167    ^VIX1D       Cboe 1-Day Volatility Index      9.940           -14.8243   \n",
            "168      ^DJX   1/100 DOW JONES INDUSTRIAL AVER    377.640             0.1406   \n",
            "169      ^OEX                     S&P 100 INDEX   2247.340            -0.3127   \n",
            "170     ^AXTJ         S&P/ASX 200 Communication   1575.600            -0.5303   \n",
            "171  IDX30.JK                             IDX30    502.801           -50.0173   \n",
            "\n",
            "       change     dayLow    dayHigh   yearHigh    yearLow marketCap  ...  \\\n",
            "0     -3.4500    271.060    274.780    274.780    271.060      None  ...   \n",
            "1    -10.1597   5743.710   5810.250   5810.250   5743.710      None  ...   \n",
            "2      0.0000      0.000  42053.200  49089.390      0.000      None  ...   \n",
            "3    -65.2754  16113.926  16231.440  16231.440  16113.926      None  ...   \n",
            "4     -5.3000   1399.850   1407.080   1695.990   1399.850      None  ...   \n",
            "..        ...        ...        ...        ...        ...       ...  ...   \n",
            "167   -1.7300      8.400     10.850     23.030      7.930      None  ...   \n",
            "168    0.5300    338.520    377.640    377.640    338.520      None  ...   \n",
            "169   -7.0498   2237.590   2255.770   2264.120   1718.320      None  ...   \n",
            "170   -8.4000   1575.600   1584.400   1608.800   1426.300      None  ...   \n",
            "171 -503.1500      0.000    502.801    502.801      0.000      None  ...   \n",
            "\n",
            "     exchange  volume   avgVolume       open  previousClose   eps    pe  \\\n",
            "0       INDEX       0           0    274.780        275.010  None  None   \n",
            "1       INDEX       0           0   5798.950       5776.650  None  None   \n",
            "2       INDEX       0           0        NaN      42053.200  None  None   \n",
            "3       INDEX       0           0  16196.355      16242.396  None  None   \n",
            "4       INDEX       0     4429941   1406.110       1407.020  None  None   \n",
            "..        ...     ...         ...        ...            ...   ...   ...   \n",
            "167     INDEX       0           0      9.000         11.670  None  None   \n",
            "168     INDEX       0           0    338.520        377.110  None  None   \n",
            "169     INDEX       0  3920520819   2249.380       2254.390  None  None   \n",
            "170     INDEX       0    28755763   1584.000       1584.000  None  None   \n",
            "171     INDEX       0           0        NaN        503.150  None  None   \n",
            "\n",
            "    earningsAnnouncement sharesOutstanding   timestamp  \n",
            "0                   None              None  1705445629  \n",
            "1                   None              None  1705417811  \n",
            "2                   None              None  1685564370  \n",
            "3                   None              None  1705440605  \n",
            "4                   None              None  1705398452  \n",
            "..                   ...               ...         ...  \n",
            "167                 None              None  1705439702  \n",
            "168                 None              None  1705069843  \n",
            "169                 None              None  1705442545  \n",
            "170                 None              None  1705447334  \n",
            "171                 None              None  1705395612  \n",
            "\n",
            "[172 rows x 22 columns]\n"
          ]
        }
      ]
    }
  ],
  "metadata": {
    "colab": {
      "provenance": [],
      "mount_file_id": "1Y0POXFHg2eFMPjPrihAPUX8Ofci4kEBT",
      "authorship_tag": "ABX9TyMaCvIDQVjU2yaQGB3Zo1W4",
      "include_colab_link": true
    },
    "kernelspec": {
      "display_name": "Python 3",
      "name": "python3"
    },
    "language_info": {
      "name": "python"
    }
  },
  "nbformat": 4,
  "nbformat_minor": 0
}